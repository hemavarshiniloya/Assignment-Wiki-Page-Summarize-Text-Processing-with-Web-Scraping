{
  "nbformat": 4,
  "nbformat_minor": 0,
  "metadata": {
    "colab": {
      "provenance": []
    },
    "kernelspec": {
      "name": "python3",
      "display_name": "Python 3"
    },
    "language_info": {
      "name": "python"
    }
  },
  "cells": [
    {
      "cell_type": "code",
      "source": [
        "#importing Natural language toolkit\n",
        "import nltk\n",
        "nltk.download('punkt')"
      ],
      "metadata": {
        "colab": {
          "base_uri": "https://localhost:8080/"
        },
        "id": "xN0_tOfrbh9m",
        "outputId": "fc1a5ff7-a9f6-4487-c2bf-2d74fed1503d"
      },
      "execution_count": 21,
      "outputs": [
        {
          "output_type": "stream",
          "name": "stderr",
          "text": [
            "[nltk_data] Downloading package punkt to /root/nltk_data...\n",
            "[nltk_data]   Package punkt is already up-to-date!\n"
          ]
        },
        {
          "output_type": "execute_result",
          "data": {
            "text/plain": [
              "True"
            ]
          },
          "metadata": {},
          "execution_count": 21
        }
      ]
    },
    {
      "cell_type": "code",
      "source": [
        "import nltk\n",
        "nltk.download('stopwords')\n",
        "import requests\n",
        "from bs4 import BeautifulSoup\n",
        "import re\n",
        "from nltk import sent_tokenize\n",
        "from nltk.corpus import stopwords  # Import NLTK stopwords\n",
        "from collections import defaultdict\n",
        "\n",
        "# Define the URL to scrape\n",
        "url = \"https://en.wikipedia.org/wiki/Alexander_the_Great\"\n",
        "\n",
        "# Send a request to the URL and get the HTML content\n",
        "response = requests.get(url)\n",
        "html_content = response.content\n",
        "\n",
        "# Create BeautifulSoup object\n",
        "soup = BeautifulSoup(html_content, 'html.parser')\n",
        "\n",
        "# Initialize a dictionary to store headings and corresponding paragraphs\n",
        "headings_paragraphs = defaultdict(list)\n",
        "\n",
        "def clean_text(text):\n",
        "    # Remove numbers, spaces, symbols, and brackets\n",
        "    cleaned_text = re.sub(r'\\d+', '', text)  # Remove numbers\n",
        "    cleaned_text = re.sub(r'\\s+', ' ', cleaned_text)  # Remove extra spaces\n",
        "    cleaned_text = re.sub(r'[^\\w\\s]', '', cleaned_text)  # Remove symbols and brackets\n",
        "    return cleaned_text.strip()\n",
        "\n",
        "# Retrieve headings and corresponding paragraphs\n",
        "current_heading = None  # Initialize current_heading\n",
        "for element in soup.find_all(['h1', 'h2', 'h3', 'h4', 'h5', 'h6', 'p']):\n",
        "    if element.name.startswith('h'):\n",
        "        current_heading = element.get_text()\n",
        "    elif current_heading and element.name == 'p':\n",
        "        cleaned_paragraph = clean_text(element.get_text())\n",
        "        if cleaned_paragraph:\n",
        "            headings_paragraphs[current_heading].append(cleaned_paragraph)\n",
        "\n",
        "# Function to remove stopwords from a list of words\n",
        "def remove_stopwords(text):\n",
        "    stop_words = set(stopwords.words('english'))\n",
        "    return [word for word in text if word.lower() not in stop_words]\n",
        "\n",
        "# Function to summarize paragraphs\n",
        "def summarize_paragraphs(paragraphs, num_sentences=2):\n",
        "    summaries = []\n",
        "    for paragraph in paragraphs:\n",
        "        sentences = sent_tokenize(paragraph)\n",
        "        sentences = [remove_stopwords(nltk.word_tokenize(sentence)) for sentence in sentences]  # Remove stopwords\n",
        "        sentences = [' '.join(sentence) for sentence in sentences]  # Recreate sentences\n",
        "        summary = ' '.join(sentences[:num_sentences])\n",
        "        summaries.append(summary)\n",
        "    return summaries\n",
        "\n",
        "# Generate and print summaries while retaining headings\n",
        "for heading, paragraphs in headings_paragraphs.items():\n",
        "    print(\"\\033[1m\" + heading + \"\\033[0m\")  # Highlighting the heading\n",
        "    summaries = summarize_paragraphs(paragraphs)\n",
        "    for summary in summaries:\n",
        "        print(summary)\n",
        "    print()"
      ],
      "metadata": {
        "id": "bwXURAcZbmR1"
      },
      "execution_count": null,
      "outputs": []
    },
    {
      "cell_type": "code",
      "source": [
        "def generate_summarization_prompts(headings_paragraphs):\n",
        "    prompts = []\n",
        "    for heading, paragraphs in headings_paragraphs.items():\n",
        "        for paragraph in paragraphs:\n",
        "            prompt = f\"Summarize the content under the heading: '{heading}'. Content: {paragraph}\"\n",
        "            prompts.append(prompt)\n",
        "    return prompts\n",
        "\n",
        "# Generate and print summarization prompts\n",
        "prompts = generate_summarization_prompts(headings_paragraphs)\n",
        "for i, prompt in enumerate(prompts, start=1):\n",
        "    print(f\"Prompt {i}: {prompt}\\n\")\n"
      ],
      "metadata": {
        "id": "bfaxPkzH1OSA"
      },
      "execution_count": null,
      "outputs": []
    },
    {
      "cell_type": "code",
      "source": [],
      "metadata": {
        "id": "H4zwSSt42bzt"
      },
      "execution_count": null,
      "outputs": []
    }
  ]
}